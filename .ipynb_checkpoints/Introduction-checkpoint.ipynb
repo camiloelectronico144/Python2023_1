{
 "cells": [
  {
   "cell_type": "code",
   "execution_count": 1,
   "id": "8daaf40e",
   "metadata": {},
   "outputs": [
    {
     "name": "stdout",
     "output_type": "stream",
     "text": [
      "KLK mamaguevo\n"
     ]
    }
   ],
   "source": [
    "print(\"KLK mamaguevo\")"
   ]
  },
  {
   "cell_type": "code",
   "execution_count": 3,
   "id": "71baeb72",
   "metadata": {},
   "outputs": [
    {
     "name": "stdout",
     "output_type": "stream",
     "text": [
      "17\n"
     ]
    }
   ],
   "source": [
    "a = 13\n",
    "b = 4\n",
    "c = a+b\n",
    "print(c)"
   ]
  },
  {
   "cell_type": "code",
   "execution_count": 4,
   "id": "1c19099a",
   "metadata": {},
   "outputs": [
    {
     "data": {
      "text/plain": [
       "17"
      ]
     },
     "execution_count": 4,
     "metadata": {},
     "output_type": "execute_result"
    }
   ],
   "source": [
    "c"
   ]
  },
  {
   "cell_type": "code",
   "execution_count": 5,
   "id": "a1f644f4",
   "metadata": {},
   "outputs": [
    {
     "data": {
      "text/html": [
       "<div>\n",
       "<style scoped>\n",
       "    .dataframe tbody tr th:only-of-type {\n",
       "        vertical-align: middle;\n",
       "    }\n",
       "\n",
       "    .dataframe tbody tr th {\n",
       "        vertical-align: top;\n",
       "    }\n",
       "\n",
       "    .dataframe thead th {\n",
       "        text-align: right;\n",
       "    }\n",
       "</style>\n",
       "<table border=\"1\" class=\"dataframe\">\n",
       "  <thead>\n",
       "    <tr style=\"text-align: right;\">\n",
       "      <th></th>\n",
       "    </tr>\n",
       "  </thead>\n",
       "  <tbody>\n",
       "  </tbody>\n",
       "</table>\n",
       "</div>"
      ],
      "text/plain": [
       "Empty DataFrame\n",
       "Columns: []\n",
       "Index: []"
      ]
     },
     "execution_count": 5,
     "metadata": {},
     "output_type": "execute_result"
    }
   ],
   "source": [
    "import pandas as pd\n",
    "pd.DataFrame()"
   ]
  },
  {
   "cell_type": "markdown",
   "id": "1fa4831f",
   "metadata": {},
   "source": [
    "# MARKDOWN"
   ]
  },
  {
   "cell_type": "markdown",
   "id": "76482c44",
   "metadata": {},
   "source": [
    "###### mamame el bicho"
   ]
  },
  {
   "cell_type": "markdown",
   "id": "c6678c26",
   "metadata": {},
   "source": [
    "**whitelivesmatter**"
   ]
  },
  {
   "cell_type": "markdown",
   "id": "1f169bf2",
   "metadata": {},
   "source": [
    "### Como hacer lo que dijo el prfe\n",
    "Utilice `print(\"KLK?, mamañema\")`.\n",
    "\n",
    "Codigo largo:\n",
    "```python\n",
    "a = 13\n",
    "b = 4\n",
    "c = a+b\n",
    "print(c)\n",
    "```"
   ]
  },
  {
   "cell_type": "markdown",
   "id": "c4ef0eba",
   "metadata": {},
   "source": [
    "### Listas \n",
    "\n",
    "###### Vapes Monteria Garavito\n",
    "-tendencia en vaPES"
   ]
  },
  {
   "cell_type": "markdown",
   "id": "cf3ae2a1",
   "metadata": {},
   "source": [
    "<img src=\"gara.JFIF\">\n",
    "     "
   ]
  },
  {
   "cell_type": "code",
   "execution_count": null,
   "id": "89a8977a",
   "metadata": {},
   "outputs": [],
   "source": []
  },
  {
   "cell_type": "code",
   "execution_count": null,
   "id": "86002688",
   "metadata": {},
   "outputs": [],
   "source": []
  }
 ],
 "metadata": {
  "kernelspec": {
   "display_name": "Python 3 (ipykernel)",
   "language": "python",
   "name": "python3"
  },
  "language_info": {
   "codemirror_mode": {
    "name": "ipython",
    "version": 3
   },
   "file_extension": ".py",
   "mimetype": "text/x-python",
   "name": "python",
   "nbconvert_exporter": "python",
   "pygments_lexer": "ipython3",
   "version": "3.9.13"
  }
 },
 "nbformat": 4,
 "nbformat_minor": 5
}
